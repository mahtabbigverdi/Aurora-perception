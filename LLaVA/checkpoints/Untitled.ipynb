{
 "cells": [
  {
   "cell_type": "code",
   "execution_count": 4,
   "id": "14a3b458-b227-4c62-afd1-05fa35190341",
   "metadata": {},
   "outputs": [],
   "source": [
    "import torch\n",
    "myd = {}\n",
    "# Load the .bin file\n",
    "for el in ['20', '40', '60', '80']:\n",
    "    state_dict = torch.load(f\"/mmfs1/gscratch/krishna/mahtab/Aurora-perception/LLaVA/checkpoints/noneedtrain_depth_annealing-llava-v1.5-7b-task-lora/checkpoint-{el}/non_lora_trainables.bin\", map_location=\"cpu\")  # or \"cuda\" if needed\n",
    "    myd[el] = state_dict['base_model.model.new_head.weight']\n"
   ]
  },
  {
   "cell_type": "code",
   "execution_count": 7,
   "id": "64ed354a-2d32-4417-809b-e7fa7ddb52e7",
   "metadata": {},
   "outputs": [
    {
     "data": {
      "text/plain": [
       "tensor([[ 0.0061,  0.0171,  0.0248,  ...,  0.0197,  0.0269,  0.0071],\n",
       "        [ 0.0111,  0.0125, -0.0030,  ..., -0.0140, -0.0002,  0.0115],\n",
       "        [-0.0199,  0.0120, -0.0071,  ..., -0.0574,  0.0211,  0.0055],\n",
       "        ...,\n",
       "        [-0.0198, -0.0019,  0.0038,  ...,  0.0057,  0.0126, -0.0322],\n",
       "        [-0.0042, -0.0127, -0.0291,  ...,  0.0046, -0.0142, -0.0060],\n",
       "        [-0.0308, -0.0378, -0.0203,  ...,  0.0009, -0.0176, -0.0142]],\n",
       "       dtype=torch.bfloat16)"
      ]
     },
     "execution_count": 7,
     "metadata": {},
     "output_type": "execute_result"
    }
   ],
   "source": [
    "myd['20']"
   ]
  },
  {
   "cell_type": "code",
   "execution_count": 6,
   "id": "f4fedd03-7b1f-4c00-a1e4-0a9bb2343be4",
   "metadata": {},
   "outputs": [
    {
     "data": {
      "text/plain": [
       "tensor([[ 5.7373e-03,  1.7090e-02,  2.4902e-02,  ...,  1.9409e-02,\n",
       "          2.7100e-02,  6.8970e-03],\n",
       "        [ 1.0803e-02,  1.2329e-02, -2.8229e-03,  ..., -1.4343e-02,\n",
       "          4.2319e-06,  1.1292e-02],\n",
       "        [-2.0142e-02,  1.2024e-02, -6.8970e-03,  ..., -5.7617e-02,\n",
       "          2.1118e-02,  5.3101e-03],\n",
       "        ...,\n",
       "        [-2.0020e-02, -1.7853e-03,  4.0588e-03,  ...,  5.2795e-03,\n",
       "          1.2695e-02, -3.2471e-02],\n",
       "        [-3.9673e-03, -1.2939e-02, -2.9053e-02,  ...,  4.5776e-03,\n",
       "         -1.3977e-02, -6.0730e-03],\n",
       "        [-3.1128e-02, -3.8086e-02, -2.0020e-02,  ...,  8.8882e-04,\n",
       "         -1.8188e-02, -1.4282e-02]], dtype=torch.bfloat16)"
      ]
     },
     "execution_count": 6,
     "metadata": {},
     "output_type": "execute_result"
    }
   ],
   "source": [
    "myd['60']"
   ]
  }
 ],
 "metadata": {
  "kernelspec": {
   "display_name": "Python 3 (ipykernel)",
   "language": "python",
   "name": "python3"
  },
  "language_info": {
   "codemirror_mode": {
    "name": "ipython",
    "version": 3
   },
   "file_extension": ".py",
   "mimetype": "text/x-python",
   "name": "python",
   "nbconvert_exporter": "python",
   "pygments_lexer": "ipython3",
   "version": "3.9.21"
  }
 },
 "nbformat": 4,
 "nbformat_minor": 5
}
