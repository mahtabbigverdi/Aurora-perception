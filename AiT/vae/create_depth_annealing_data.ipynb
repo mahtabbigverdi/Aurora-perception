{
 "cells": [
  {
   "cell_type": "code",
   "execution_count": 7,
   "id": "f6b93a2e-6414-4c12-9a5f-c320736e9073",
   "metadata": {},
   "outputs": [],
   "source": [
    "import uuid\n",
    "import json\n",
    "import numpy as np"
   ]
  },
  {
   "cell_type": "code",
   "execution_count": null,
   "id": "f325da46",
   "metadata": {},
   "outputs": [],
   "source": [
    "ADE_PATH = \"ADE_blink\"\n",
    "ade_codes = np.load(\"ADE_codes.npy\", allow_pickle= True).item()\n",
    "letters = ['A', 'B', 'C', 'D', 'E']\n",
    "with open(\"point_label_mappings.json\", 'r') as f:\n",
    "    point_mapping = json.load(f)\n",
    "with open(\"depth_qa_pairs.json\", 'r') as f:\n",
    "    qa = json.load(f)\n",
    "with open(\"../../Data/train_depth_20k.json\", 'r') as f:\n",
    "    depth20k_data = json.load(f)"
   ]
  },
  {
   "cell_type": "code",
   "execution_count": 8,
   "id": "68e436ff-8537-40ab-a23b-199e5632aace",
   "metadata": {},
   "outputs": [],
   "source": [
    "## create 1000 (500*2) multitask data of direct labeling + CoT\n",
    "cot_data = []\n",
    "for f in list(point_mapping.keys()):\n",
    "    path = f\"{ADE_PATH}/{f}\"\n",
    "    question = \"Multiple points are circled on the image, labeled by letters beside each circle. Which point is the closest to the camera?\"\n",
    "    answer = qa[f][\"answer\"]\n",
    "    answer = f\"({answer})\"\n",
    "    \n",
    "    ## direct labeling data\n",
    "    new_entry = {\n",
    "            \"id\": str(uuid.uuid4()),\n",
    "            \"image\": path,\n",
    "            \"conversations\": [\n",
    "                {\n",
    "                    \"from\": \"human\",\n",
    "                    \"value\": f\"<image>\\n{question}\"\n",
    "                },\n",
    "                {\n",
    "                    \"from\": \"gpt\",\n",
    "                    \"value\": f\"{answer}\"\n",
    "                },\n",
    "            ]\n",
    "            }\n",
    "    \n",
    "    cot_data.append(new_entry)\n",
    "    question += \"\\nTo answer this question, let's think through it step by step, and we know the image is 336 x 336. First, what are the coordinates of points in the image? Second, what is the depth map for the image? Which point has a higher pixel value on the depth map? Remember, higher values indicate that the point is closer to the camera.\"\n",
    "    points_dict = point_mapping[f]\n",
    "    num_points = len(points_dict)\n",
    "    answer = \"\"\n",
    "    for i in range(num_points):\n",
    "        letter = letters[i]\n",
    "        x, y = points_dict[letter]['coordinate']\n",
    "        answer+= f\"Point {letter} is located at (x = {x} y = {y}),\"\n",
    "    answer = answer[:-1] + \".\"\n",
    "    gt = qa[f][\"answer\"] \n",
    "    depth_tokens = ade_codes[f\"{f[:-4]}_depth.png\"]\n",
    "    answer += f\"The depth map for the image is {depth_tokens}. Since point {gt} has a higher pixel value on the depth map, the answer is that point {gt} is closer to the camera.\"\n",
    "    assert answer.count(\"<DEPTH\") == 102\n",
    "    \n",
    "    ## cot data\n",
    "    new_entry = {\n",
    "            \"id\": str(uuid.uuid4()),\n",
    "            \"image\": path,\n",
    "            \"conversations\": [\n",
    "                {\n",
    "                    \"from\": \"human\",\n",
    "                    \"value\": f\"<image>\\n{question}\"\n",
    "                },\n",
    "                {\n",
    "                    \"from\": \"gpt\",\n",
    "                    \"value\": f\"{answer}\"\n",
    "                },\n",
    "            ]\n",
    "            }\n",
    "\n",
    "\n",
    "    cot_data.append(new_entry)\n",
    "\n",
    "\n"
   ]
  },
  {
   "cell_type": "code",
   "execution_count": 11,
   "id": "3cdf0078-ecc0-4705-9010-2d00c31c12db",
   "metadata": {},
   "outputs": [
    {
     "name": "stdout",
     "output_type": "stream",
     "text": [
      "200000 90000\n"
     ]
    }
   ],
   "source": [
    "## make a single training file having the data for all 10 epochs sequentially\n",
    "\n",
    "import random\n",
    "epochs = 10\n",
    "total_length = 20000\n",
    "random.seed(0)\n",
    "percents = [1, 0.9, 0.8, 0.7, 0.6, 0.5, 0.4, 0.3, 0.2 , 0.1]\n",
    "total_cot_size = 0\n",
    "annealing_data =[]\n",
    "for epoch in range(epochs):\n",
    "    percent = percents[epoch]\n",
    "    epoch_depth_data = random.sample(depth20k_data, int(total_length * percent) )\n",
    "    cot_length = total_length - int(total_length * percent)\n",
    "    repeat = cot_length//len(cot_data)\n",
    "    epoch_cot_data = cot_data * repeat\n",
    "    total_epoch_data = epoch_depth_data + epoch_cot_data\n",
    "    annealing_data += total_epoch_data\n",
    "    total_cot_size+= len(epoch_cot_data)\n",
    "    \n",
    "    \n",
    "    \n",
    "print(len(annealing_data), total_cot_size)\n",
    "    \n",
    "    "
   ]
  },
  {
   "cell_type": "code",
   "execution_count": 51,
   "id": "74b0f1c1-6c91-4194-948b-47506135c5ed",
   "metadata": {},
   "outputs": [],
   "source": [
    "def write_json(data, filename):\n",
    "    with open(filename, 'w') as f:\n",
    "        json.dump(data, f, indent=2)\n",
    "write_json(annealing_data, \"../../Data/train_depth_annealing_data.json\")"
   ]
  }
 ],
 "metadata": {
  "kernelspec": {
   "display_name": "Python 3 (ipykernel)",
   "language": "python",
   "name": "python3"
  },
  "language_info": {
   "codemirror_mode": {
    "name": "ipython",
    "version": 3
   },
   "file_extension": ".py",
   "mimetype": "text/x-python",
   "name": "python",
   "nbconvert_exporter": "python",
   "pygments_lexer": "ipython3",
   "version": "3.10.16"
  }
 },
 "nbformat": 4,
 "nbformat_minor": 5
}
